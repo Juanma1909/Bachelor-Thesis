{
  "cells": [
    {
      "cell_type": "code",
      "source": [
        "#instalacion de dependencias"
      ],
      "metadata": {
        "id": "_7i08-NxM8Eq"
      },
      "execution_count": null,
      "outputs": []
    },
    {
      "cell_type": "code",
      "source": [
        "pip install dipy"
      ],
      "metadata": {
        "id": "AMLWDnNN-9YL"
      },
      "execution_count": null,
      "outputs": []
    },
    {
      "cell_type": "code",
      "source": [
        "pip install fury"
      ],
      "metadata": {
        "id": "QZGOrBvVkKM5"
      },
      "execution_count": null,
      "outputs": []
    },
    {
      "cell_type": "code",
      "source": [
        "pip install nibabel"
      ],
      "metadata": {
        "id": "r5MB2cBakJwx"
      },
      "execution_count": null,
      "outputs": []
    },
    {
      "cell_type": "code",
      "execution_count": 4,
      "metadata": {
        "id": "QZo82mQpoZmY"
      },
      "outputs": [],
      "source": [
        "import numpy as np\n",
        "import tensorflow as tf\n",
        "import tensorflow_datasets as tfds\n",
        "import matplotlib.pyplot as plt\n",
        "\n",
        "from tensorflow import keras\n",
        "from tensorflow.keras import layers\n",
        "\n",
        "\n",
        "import nibabel as nib\n",
        "from skimage.transform import rescale, resize, downscale_local_mean\n",
        "from tensorflow.keras.models import load_model\n",
        "from sklearn.model_selection import train_test_split\n",
        "import cv2\n",
        "import numpy as np\n",
        "from skimage.metrics import structural_similarity as ssim\n",
        "AUTOTUNE = tf.data.AUTOTUNE\n",
        "\n",
        "from dipy.io.gradients import read_bvals_bvecs\n",
        "from dipy.core.gradients import gradient_table\n",
        "import dipy.reconst.dti as dti\n",
        "#from dipy.viz import window, actor\n",
        "from dipy.reconst.dti import fractional_anisotropy, color_fa\n",
        "import dipy.data as dpd\n",
        "from google.colab import files\n",
        "import time"
      ]
    },
    {
      "cell_type": "code",
      "execution_count": 5,
      "metadata": {
        "colab": {
          "base_uri": "https://localhost:8080/"
        },
        "id": "B9wuICqiOJtG",
        "outputId": "2ce5d2be-c1fd-4f78-ef31-61d565d82ecd"
      },
      "outputs": [
        {
          "output_type": "stream",
          "name": "stdout",
          "text": [
            "Drive already mounted at /content/drive; to attempt to forcibly remount, call drive.mount(\"/content/drive\", force_remount=True).\n"
          ]
        }
      ],
      "source": [
        "#conexion a google drive\n",
        "from google.colab import drive\n",
        "drive.mount('/content/drive')"
      ]
    },
    {
      "cell_type": "code",
      "source": [
        "def plot_results_3_images(lowres, preds, highres):\n",
        "    \"\"\"\n",
        "    Mostrar las 3 imágenes (lowres, preds, highres)\n",
        "    \"\"\"\n",
        "    i = 0\n",
        "    fig, axes = plt.subplots(1, 3, figsize=(25, 25))\n",
        "    plt.subplots_adjust(wspace=0.1, hspace=0.1)\n",
        "    ax1, ax2, ax3 = axes\n",
        "    ax1.imshow(lowres, cmap=\"gray\")\n",
        "    ax1.set_title('Ground Truth', fontsize=20)\n",
        "    ax2.imshow(preds, cmap=\"gray\")\n",
        "    ax2.set_title('Bicubic', fontsize=20)\n",
        "    ax3.imshow(highres, cmap=\"gray\")\n",
        "    ax3.set_title('EDSR', fontsize=20) "
      ],
      "metadata": {
        "id": "Hm1Oz0DK-uCS"
      },
      "execution_count": 6,
      "outputs": []
    },
    {
      "cell_type": "code",
      "execution_count": 7,
      "metadata": {
        "id": "fKKaXPI7NpyX"
      },
      "outputs": [],
      "source": [
        "def oneToThreeChannel(img, n):\n",
        "  \"\"\"\n",
        "  recibe una imagen cuadrada de 1 canal y el numero de pixeles del lado\n",
        "  retorna una imagen cuadrada de 3 canales asociada a la imagen de recepción\n",
        "  \"\"\"\n",
        "  img3Channels = np.array([[np.array([np.single(0), np.single(0), np.single(0)]) for _ in range(n)] for _ in range(n)])\n",
        "  for i in range(n):\n",
        "    for j in range(n):\n",
        "      pixel = img[i][j]\n",
        "      img3Channels[i][j] = np.array([pixel, pixel, pixel])\n",
        "  return img3Channels"
      ]
    },
    {
      "cell_type": "code",
      "execution_count": 8,
      "metadata": {
        "id": "j69jGGMkrQ01"
      },
      "outputs": [],
      "source": [
        "def threeToOneChannel(img, n):\n",
        "  \"\"\"\n",
        "  recibe una imagen cuadrada de 3 canales y el numero de pixeles del lado\n",
        "  retorna una imagen cuadrada de 1 canal asociada a la imagen de recepcion\n",
        "  \"\"\"\n",
        "  img1 = np.array([[np.array([np.single(0)]) for _ in range(n)] for _ in range(n)])\n",
        "  for i in range(n):\n",
        "    for j in range(n):\n",
        "      pixel = img[i][j][0]\n",
        "      img1[i][j] = np.array([pixel])\n",
        "  return img1\n"
      ]
    },
    {
      "cell_type": "code",
      "source": [
        "\n",
        "def create_mask(img):\n",
        "    # Convertir la imagen a escala de grises\n",
        "    gray = cv2.cvtColor(img, cv2.COLOR_BGR2GRAY).astype(np.uint8)\n",
        "\n",
        "    # Calcular el umbral Otsu para la imagen en escala de grises\n",
        "    _, thresh = cv2.threshold(gray, 0, 255, cv2.THRESH_BINARY+cv2.THRESH_OTSU)#cambio max\n",
        "\n",
        "    # Encontrar los contornos de la imagen binaria\n",
        "    contours, _ = cv2.findContours(thresh, cv2.RETR_EXTERNAL, cv2.CHAIN_APPROX_SIMPLE)\n",
        "\n",
        "    # Encontrar el contorno más grande\n",
        "    max_contour = max(contours, key=cv2.contourArea)\n",
        "\n",
        "    # Crear una imagen negra del mismo tamaño que la original\n",
        "    mask = np.zeros_like(gray)\n",
        "\n",
        "    # Dibujar el contorno más grande en blanco en la imagen negra\n",
        "    cv2.drawContours(mask, [max_contour], 0, (255), -1)#cambio max\n",
        "\n",
        "    # Dilatar la máscara para ampliar el área de recorte\n",
        "    kernel = np.ones((15, 15), np.uint8)\n",
        "    mask = cv2.dilate(mask, kernel, iterations=1)\n",
        "\n",
        "    return mask\n",
        "\n",
        "def cut(img, mask):\n",
        "    # Convertir la imagen a escala de grises\n",
        "    gray = cv2.cvtColor(img, cv2.COLOR_BGR2GRAY).astype(np.uint8)\n",
        "    # Aplicar la máscara a la imagen original\n",
        "    masked_img = cv2.bitwise_and(img, img, mask=mask)\n",
        "\n",
        "    return masked_img\n"
      ],
      "metadata": {
        "id": "RE-B-qWK3nKE"
      },
      "execution_count": 9,
      "outputs": []
    },
    {
      "cell_type": "code",
      "source": [
        "def recortarSet(imagenes, mask):\n",
        "  \"\"\"\n",
        "  aplicar una mascara de recorte mask en cada imagen de la lista imagenes\n",
        "  \"\"\"\n",
        "  imagenes_recortadas = []\n",
        "  for i in imagenes:\n",
        "    imagenes_recortadas.append(cut(i, mask))\n",
        "  return imagenes_recortadas"
      ],
      "metadata": {
        "id": "8VWLtJwZ3gcc"
      },
      "execution_count": 10,
      "outputs": []
    },
    {
      "cell_type": "code",
      "execution_count": 11,
      "metadata": {
        "id": "VgYJXBkcOc5W"
      },
      "outputs": [],
      "source": [
        "scale = 2 #escala de downsampling\n",
        "\n",
        "#carga de dataset\n",
        "filename = '/content/drive/MyDrive/ColabNotebooks/Data/TENSOR_2x2x2.nii'\n",
        "images = nib.load(filename)\n",
        "data = images.get_fdata()\n",
        "\n",
        "#normalizacion\n",
        "dataMax= data.max()\n",
        "data = data/dataMax\n",
        "data = data*255\n",
        "\n",
        "#reduccion de resolucion\n",
        "dataLow = data[0:data.shape[0]:scale,0:data.shape[1]:scale,:,:]\n",
        "\n",
        "#cambio de ejes y reorganizacion del dataset(hr, lr) en una lista de imagenes\n",
        "data = data.transpose(2,3,1, 0)\n",
        "data = data.reshape(33*26, 256, 256) \n",
        "dataLow = dataLow.transpose(2,3,1, 0)\n",
        "dataLow = dataLow.reshape(33*26, 128, 128) \n",
        "\n",
        "#conversion de imagenes(hr, lr) de 1 canal a 3 canales\n",
        "data_3channel = []\n",
        "for i in range(33*26):\n",
        "  data_3channel.append(oneToThreeChannel(data[i],data[i].shape[0] ))\n",
        "\n",
        "data_low_3channel = []\n",
        "for i in range(33*26):\n",
        "  data_low_3channel.append(oneToThreeChannel(dataLow[i],dataLow[i].shape[0] ))\n",
        "\n"
      ]
    },
    {
      "cell_type": "code",
      "source": [
        "mask = create_mask(data_3channel[480])\n",
        "mask_low = create_mask(data_low_3channel[480])"
      ],
      "metadata": {
        "id": "7rXaiOEC4toc"
      },
      "execution_count": 12,
      "outputs": []
    },
    {
      "cell_type": "code",
      "execution_count": 14,
      "metadata": {
        "id": "H-EwF79lxBRt"
      },
      "outputs": [],
      "source": [
        "#dividir el dataset en train, test y val\n",
        "data_3channel = np.array(data_3channel)\n",
        "data_low_3channel = np.array(data_low_3channel)\n",
        "\n",
        "data_train, data_test, data_low_train, data_low_test = train_test_split(data_3channel, data_low_3channel, test_size=0.3, random_state=2024)\n",
        "data_test, data_val, data_low_test, data_low_val = train_test_split(data_test, data_low_test, test_size=0.5, random_state=2024)"
      ]
    },
    {
      "cell_type": "code",
      "execution_count": 15,
      "metadata": {
        "id": "mXYzqpJ82aPm"
      },
      "outputs": [],
      "source": [
        "# Convertir las listas de matrices HR y LR en tensores de TensorFlow\n",
        "train_HR_tensor = tf.convert_to_tensor(data_train, dtype=tf.float32)\n",
        "train_LR_tensor = tf.convert_to_tensor(data_low_train, dtype=tf.float32)\n",
        "\n",
        "val_HR_tensor = tf.convert_to_tensor(data_val, dtype=tf.float32)\n",
        "val_LR_tensor = tf.convert_to_tensor(data_low_val, dtype=tf.float32)\n",
        "\n",
        "# Crear un objeto tf.data.Dataset a partir de los tensores de HR y LR\n",
        "dataset_train = tf.data.Dataset.from_tensor_slices((train_LR_tensor, train_HR_tensor))\n",
        "dataset_val = tf.data.Dataset.from_tensor_slices((val_LR_tensor, val_HR_tensor))\n",
        "\n",
        "# Definir la estructura del conjunto de datos\n",
        "dataset_train = dataset_train.map(lambda x, y: ( x,  y))\n",
        "dataset_val = dataset_val.map(lambda x, y: (x,  y))\n",
        "#guardar datasets en cache\n",
        "train_cache = dataset_train.cache()\n",
        "val_cache = dataset_val.cache()"
      ]
    },
    {
      "cell_type": "code",
      "execution_count": 16,
      "metadata": {
        "id": "GvDvekNPuVeJ"
      },
      "outputs": [],
      "source": [
        "def flip_left_right(lowres_img, highres_img):\n",
        "    \"\"\"Flips Images to left and right.\"\"\"\n",
        "\n",
        "    # Outputs random values from a uniform distribution in between 0 to 1\n",
        "    rn = tf.random.uniform(shape=(), maxval=255)\n",
        "    # If rn is less than 0.5 it returns original lowres_img and highres_img\n",
        "    # If rn is greater than 0.5 it returns flipped image\n",
        "    return tf.cond(\n",
        "        rn < 0.5,\n",
        "        lambda: (lowres_img, highres_img),\n",
        "        lambda: (\n",
        "            tf.image.flip_left_right(lowres_img),\n",
        "            tf.image.flip_left_right(highres_img),\n",
        "        ),\n",
        "    )\n",
        "\n",
        "\n",
        "def random_rotate(lowres_img, highres_img):\n",
        "    \"\"\"Rotates Images by 90 degrees.\"\"\"\n",
        "\n",
        "    # Outputs random values from uniform distribution in between 0 to 4\n",
        "    rn = tf.random.uniform(shape=(), maxval=4, dtype=tf.int32)\n",
        "    # Here rn signifies number of times the image(s) are rotated by 90 degrees\n",
        "    return tf.image.rot90(lowres_img, rn), tf.image.rot90(highres_img, rn)\n",
        "\n",
        "\n",
        "def random_crop(lowres_img, highres_img, hr_crop_size=96, scale=2):\n",
        "    \"\"\"Crop images.\n",
        "\n",
        "    low resolution images: 24x24\n",
        "    high resolution images: 96x96\n",
        "    \"\"\"\n",
        "    lowres_crop_size = hr_crop_size // scale  # 96//4=24\n",
        "    lowres_img_shape = tf.shape(lowres_img)[:2]  # (height,width)\n",
        "\n",
        "    lowres_width = tf.random.uniform(\n",
        "        shape=(), maxval=lowres_img_shape[1] - lowres_crop_size + 1, dtype=tf.int32\n",
        "    )\n",
        "    lowres_height = tf.random.uniform(\n",
        "        shape=(), maxval=lowres_img_shape[0] - lowres_crop_size + 1, dtype=tf.int32\n",
        "    ) \n",
        "\n",
        "    highres_width = lowres_width * scale\n",
        "    highres_height = lowres_height * scale \n",
        "\n",
        "    lowres_img_cropped = lowres_img[\n",
        "        lowres_height : lowres_height + lowres_crop_size,\n",
        "        lowres_width : lowres_width + lowres_crop_size,\n",
        "    ]  # 24x24\n",
        "    highres_img_cropped = highres_img[\n",
        "        highres_height : highres_height + hr_crop_size,\n",
        "        highres_width : highres_width + hr_crop_size,\n",
        "    ]  # 96x96\n",
        "\n",
        "    return lowres_img_cropped, highres_img_cropped"
      ]
    },
    {
      "cell_type": "code",
      "execution_count": 17,
      "metadata": {
        "id": "sakgs3qkuacT"
      },
      "outputs": [],
      "source": [
        "def dataset_object(dataset_cache, training=True):\n",
        "\n",
        "    ds = dataset_cache\n",
        "    ds = ds.map(\n",
        "        lambda lowres, highres: random_crop(lowres, highres, scale=2), #scale estaba en 4\n",
        "        num_parallel_calls=AUTOTUNE,\n",
        "    )\n",
        "\n",
        "    if training:\n",
        "        ds = ds.map(random_rotate, num_parallel_calls=AUTOTUNE)\n",
        "        ds = ds.map(flip_left_right, num_parallel_calls=AUTOTUNE)\n",
        "    # Batching Data\n",
        "    ds = ds.batch(16)\n",
        "\n",
        "    if training:\n",
        "        # Repeating Data, so that cardinality if dataset becomes infinte\n",
        "        ds = ds.repeat()\n",
        "    # prefetching allows later images to be prepared while the current image is being processed\n",
        "    ds = ds.prefetch(buffer_size=AUTOTUNE)\n",
        "    return ds\n",
        "\n",
        "\n",
        "dataset_train = dataset_object(train_cache, training=True)\n",
        "dataset_val = dataset_object(val_cache, training=False)\n",
        "\n"
      ]
    },
    {
      "cell_type": "code",
      "execution_count": 18,
      "metadata": {
        "id": "88XEvf4bukbK"
      },
      "outputs": [],
      "source": [
        "\n",
        "#recurso: https://keras.io/examples/vision/edsr/\n",
        "def PSNR(super_resolution, high_resolution):\n",
        "    \"\"\"Compute the peak signal-to-noise ratio, measures quality of image.\"\"\"\n",
        "    # Max value of pixel is 255\n",
        "    psnr_value = tf.image.psnr(high_resolution, super_resolution, max_val=255)[0]\n",
        "    return psnr_value\n",
        "\n",
        "class EDSRModel(tf.keras.Model):\n",
        "    def train_step(self, data):\n",
        "        # Unpack the data. Its structure depends on your model and\n",
        "        # on what you pass to `fit()`.\n",
        "        x, y = data\n",
        "\n",
        "        with tf.GradientTape() as tape:\n",
        "            y_pred = self(x, training=True)  # Forward pass\n",
        "            # Compute the loss value\n",
        "            # (the loss function is configured in `compile()`)\n",
        "            loss = self.compiled_loss(y, y_pred, regularization_losses=self.losses)\n",
        "\n",
        "        # Compute gradients\n",
        "        trainable_vars = self.trainable_variables\n",
        "        gradients = tape.gradient(loss, trainable_vars)\n",
        "        # Update weights\n",
        "        self.optimizer.apply_gradients(zip(gradients, trainable_vars))\n",
        "        # Update metrics (includes the metric that tracks the loss)\n",
        "        self.compiled_metrics.update_state(y, y_pred)\n",
        "        # Return a dict mapping metric names to current value\n",
        "        return {m.name: m.result() for m in self.metrics}\n",
        "\n",
        "    def predict_step(self, x):\n",
        "        # Adding dummy dimension using tf.expand_dims and converting to float32 using tf.cast\n",
        "        x = tf.cast(tf.expand_dims(x, axis=0), tf.float32)\n",
        "        # Passing low resolution image to model\n",
        "        super_resolution_img = self(x, training=False)\n",
        "        # Clips the tensor from min(0) to max(255)\n",
        "        super_resolution_img = tf.clip_by_value(super_resolution_img, 0, 255)#cambio max\n",
        "        # Rounds the values of a tensor to the nearest integer\n",
        "        super_resolution_img = tf.round(super_resolution_img)\n",
        "        # Removes dimensions of size 1 from the shape of a tensor and converting to uint8\n",
        "        super_resolution_img = tf.squeeze(\n",
        "            tf.cast(super_resolution_img, tf.uint8), axis=0\n",
        "        )\n",
        "        return super_resolution_img\n",
        "\n",
        "\n",
        "\n",
        "\n",
        "# Residual Block\n",
        "def ResBlock(inputs):\n",
        "    x = layers.Conv2D(32, 3, padding=\"same\", activation=\"relu\")(inputs)\n",
        "    x = layers.Conv2D(32, 3, padding=\"same\")(x)\n",
        "    x = layers.Add()([inputs, x])\n",
        "    return x\n",
        "\n",
        "def Upsampling(inputs, factor=2, **kwargs):\n",
        "    x = layers.Conv2D(32 * (factor ** 2), 3, padding=\"same\", **kwargs)(inputs)\n",
        "    x = tf.nn.depth_to_space(x, block_size=factor)\n",
        "    return x\n",
        "\n",
        "def make_model(num_filters, num_of_residual_blocks):\n",
        "    # Flexible Inputs to input_layer\n",
        "    input_layer = layers.Input(shape=(None, None, 3))\n",
        "    # Scaling Pixel Values\n",
        "    x = layers.Rescaling(scale=1.0 / 1)(input_layer)\n",
        "    x = x_new = layers.Conv2D(num_filters, 3, padding=\"same\")(x)\n",
        "\n",
        "    # 16 residual blocks\n",
        "    for _ in range(num_of_residual_blocks):\n",
        "        x_new = ResBlock(x_new)\n",
        "\n",
        "    x_new = layers.Conv2D(num_filters, 3, padding=\"same\")(x_new)\n",
        "    x = layers.Conv2D(num_filters, 3, padding=\"same\")(x)\n",
        "    x = layers.Add()([x, x_new])\n",
        "\n",
        "    x = Upsampling(x)\n",
        "    x = layers.Conv2D(3, 3, padding=\"same\")(x)\n",
        "\n",
        "    output_layer = layers.Rescaling(scale=255)(x)\n",
        "    return EDSRModel(input_layer, output_layer)\n",
        "\n",
        "model = make_model(num_filters=32, num_of_residual_blocks=16)"
      ]
    },
    {
      "cell_type": "code",
      "execution_count": null,
      "metadata": {
        "id": "X4fse9j9ulOq"
      },
      "outputs": [],
      "source": [
        "NEpochs = 2000\n",
        "Batch_size = 32\n",
        "\n",
        "optim_edsr = keras.optimizers.Adam(\n",
        "    learning_rate=keras.optimizers.schedules.PiecewiseConstantDecay(\n",
        "        boundaries=[5000], values=[1e-4, 5e-5]\n",
        "    )\n",
        ")\n",
        "\n",
        "model.compile(optimizer=optim_edsr, loss=\"mae\", metrics=[PSNR])\n",
        "\n",
        "# Registro de tiempo de inicio\n",
        "tiempo_inicio = time.time()\n",
        "model_train = model.fit(dataset_train, epochs=NEpochs, batch_size = Batch_size, steps_per_epoch= len(data_train)//Batch_size, validation_data=dataset_val)\n",
        "# Registro de tiempo de finalización\n",
        "tiempo_fin = time.time()\n",
        "\n",
        "#grafica epocas vs Training loss y validation loss\n",
        "loss = model_train.history['loss']\n",
        "val_loss = model_train.history['val_loss']\n",
        "epochs = range(NEpochs)\n",
        "plt.figure()\n",
        "plt.plot(epochs, loss, 'bo', label='Training loss')\n",
        "plt.plot(epochs, val_loss, 'b', label='Validation loss')\n",
        "plt.title('Training and validation loss')\n",
        "plt.legend()\n",
        "plt.show()\n",
        "\n",
        "# Cálculo del tiempo total de ejecución y salida del resultado\n",
        "tiempo_total = tiempo_fin - tiempo_inicio\n",
        "print(\"Tiempo total de ejecución: \", tiempo_total, \" segundos\")#Tiempo total de ejecución:  43589.72594809532  segundos\n",
        "\n",
        "model.save(\"modelEDSR2000epochs.keras\")\n",
        "files.download(\"modelEDSR2000epochs.keras\")"
      ]
    },
    {
      "cell_type": "code",
      "source": [
        "\n",
        "#cargar modelo entrenado\n",
        "# Registrar la capa EDSRModel en el ámbito de objetos personalizados de Keras\n",
        "#custom_objects = {'EDSRModel': EDSRModel, 'PSNR': PSNR}\n",
        "# Cargar el modelo entrenado\n",
        "#model = load_model('/content/drive/MyDrive/Colab Notebooks/modelos_entrenados/modelEDSR2000epochsSplit0.7.h5', custom_objects=custom_objects)\n"
      ],
      "metadata": {
        "id": "_jucNKyQOi4K"
      },
      "execution_count": 20,
      "outputs": []
    },
    {
      "cell_type": "code",
      "source": [
        "#metricas\n",
        "def psnr(imagenesGT, imagenesPred):\n",
        "  psnrGlobal = []\n",
        "  for i in range(len(imagenesGT)):\n",
        "    psnr = cv2.PSNR(imagenesGT[i], imagenesPred[i])\n",
        "    psnrGlobal.append(psnr)\n",
        "  psnrGlobal = np.array(psnrGlobal)\n",
        "  return (psnrGlobal.mean(),psnrGlobal.std())\n",
        "\n",
        "\n",
        "def rmse(imagenesGT, imagenesPred):\n",
        "  rmseGlobal = []\n",
        "  for i in range(len(imagenesGT)):\n",
        "    rmse = np.sqrt(np.mean((imagenesGT[i] - imagenesPred[i])**2))\n",
        "    rmseGlobal.append(rmse)\n",
        "  rmseGlobal = np.array(rmseGlobal)\n",
        "  return (rmseGlobal.mean(),rmseGlobal.std())\n",
        "\n",
        "def mse(imagenesGT, imagenesPred):\n",
        "  mseGlobal = []\n",
        "  for i in range(len(imagenesGT)):\n",
        "    mse = np.mean((imagenesGT[i] - imagenesPred[i])**2)\n",
        "    mseGlobal.append(mse)\n",
        "  mseGlobal = np.array(mseGlobal)\n",
        "  return (mseGlobal.mean(),mseGlobal.std())\n",
        "\n",
        "def ssim_(imagenesGT, imagenesPred):\n",
        "  ssimGlobal = []\n",
        "  for i in range(len(imagenesGT)):\n",
        "    ssim_index = ssim(imagenesGT[i], imagenesPred[i], data_range=imagenesPred[i].max() - imagenesPred[i].min(), multichannel=True)\n",
        "    ssimGlobal.append(ssim_index)\n",
        "  ssimGlobal = np.array(ssimGlobal)\n",
        "  return (ssimGlobal.mean(),ssimGlobal.std())"
      ],
      "metadata": {
        "id": "88r0GttNrq6T"
      },
      "execution_count": 21,
      "outputs": []
    },
    {
      "cell_type": "code",
      "source": [
        "#prediccion del conjunto de test\n",
        "y = []\n",
        "for i in range(len(data_low_test)):\n",
        "  y.append(model.predict(data_low_test[i]))\n",
        "y = np.array(y)\n",
        "y = y.astype(np.float32)\n",
        "mask = create_mask(data_3channel[480])\n",
        "y_pred_recortadas =  recortarSet(y, mask)\n",
        "data_3channel_recortadas =  recortarSet(data_test, mask)"
      ],
      "metadata": {
        "id": "1OZQ6zjdwptH"
      },
      "execution_count": null,
      "outputs": []
    },
    {
      "cell_type": "code",
      "source": [
        "print(\"Metricas sin recorte\")\n",
        "valssim,stdssim = ssim_(data_test, y)\n",
        "print('SSIM:', valssim, \"standard deviation: \", stdssim)\n",
        "valmse,stdmse = mse(data_test, y)\n",
        "print('MSE:', valmse, \"standard deviation: \", stdmse)\n",
        "valrmse,stdrmse = rmse(data_test, y)\n",
        "print('RMSE:', valrmse, \"standard deviation: \", stdrmse)\n",
        "valpsnr,stdpsnr = psnr(data_test, y)\n",
        "print('PSNR:', valpsnr, \"standard deviation: \", stdpsnr)\n",
        "\n",
        "print(\"Metricas con recorte\")\n",
        "valssim,stdssim = ssim_(data_3channel_recortadas, y_pred_recortadas)\n",
        "print('SSIM:', valssim, \"standard deviation: \", stdssim)\n",
        "valmse,stdmse = mse(data_3channel_recortadas, y_pred_recortadas)\n",
        "print('MSE:', valmse, \"standard deviation: \", stdmse)\n",
        "valrmse,stdrmse = rmse(data_3channel_recortadas, y_pred_recortadas)\n",
        "print('RMSE:', valrmse, \"standard deviation: \", stdrmse)\n",
        "valpsnr,stdpsnr = psnr(data_3channel_recortadas, y_pred_recortadas)\n",
        "print('PSNR:', valpsnr, \"standard deviation: \", stdpsnr)"
      ],
      "metadata": {
        "id": "FCrZp23NwvdP"
      },
      "execution_count": null,
      "outputs": []
    },
    {
      "cell_type": "code",
      "source": [
        "\n",
        "\n",
        "#comparar contra interpolacion bicubica\n",
        "data_bicubic = np.array(tf.image.resize(data_low_test, [256, 256], method='bicubic'))\n",
        "data_bicubic = data_bicubic.astype(np.float32)\n",
        "\n",
        "data_bicubic_rec = recortarSet(data_bicubic, mask)\n",
        "#data_bicubic = np.array([resize_image(img) for img in data_low_3channel])\n",
        "y_pred_recortadas =  recortarSet(data_bicubic, mask)\n",
        "\n"
      ],
      "metadata": {
        "id": "ebEANg9jEzlF"
      },
      "execution_count": 37,
      "outputs": []
    },
    {
      "cell_type": "code",
      "source": [
        "X = 1\n",
        "plot_results_3_images(threeToOneChannel(data_test[X,50:130,100:180], 80), threeToOneChannel(data_bicubic[X,50:130,100:180], 80), threeToOneChannel(y[X,50:130,100:180], 80))\n"
      ],
      "metadata": {
        "colab": {
          "base_uri": "https://localhost:8080/",
          "height": 432
        },
        "id": "mGaxgT-tulPc",
        "outputId": "874610d8-0f7b-4067-82b1-3ead4cf4fe67"
      },
      "execution_count": 38,
      "outputs": [
        {
          "output_type": "display_data",
          "data": {
            "text/plain": [
              "<Figure size 2500x2500 with 3 Axes>"
            ],
            "image/png": "[encoded data removed]"
          },
          "metadata": {}
        }
      ]
    },
    {
      "cell_type": "code",
      "source": [
        "#predecir todo el conjunto de datos\n",
        "data_pred = []\n",
        "for i in range(len(data_low_3channel)):\n",
        "  data_pred.append(model.predict(data_low_3channel[i]))\n",
        "data_pred = np.array(data_pred)\n",
        "data_pred = data_pred.astype(np.float32)\n"
      ],
      "metadata": {
        "id": "UZ45OYSsMd9p"
      },
      "execution_count": null,
      "outputs": []
    },
    {
      "cell_type": "code",
      "source": [
        "data_pred_cut = []\n",
        "for i in range(33*26):\n",
        "  data_pred_cut.append(threeToOneChannel(data_pred[i],data_pred[i].shape[0] ))"
      ],
      "metadata": {
        "id": "nk9Q51-32-EZ"
      },
      "execution_count": 40,
      "outputs": []
    },
    {
      "cell_type": "code",
      "source": [
        "data_cut_aux = np.array(recortarSet(data_3channel, mask))\n",
        "data_cut = []\n",
        "for i in range(33*26):\n",
        "  data_cut.append(threeToOneChannel(data_cut_aux[i],data_cut_aux[i].shape[0] ))"
      ],
      "metadata": {
        "id": "ZVzGE5lXiOFu"
      },
      "execution_count": 41,
      "outputs": []
    },
    {
      "cell_type": "code",
      "source": [
        "def backTo4D(img):\n",
        "  \"\"\"\n",
        "  Funcion que dado un conjunto de imagnes con dimensiones (858,256,256)\n",
        "  lo convierte a (256,256,33,26)\n",
        "  \"\"\"\n",
        "  nimg =  img.reshape(858,256,256)\n",
        "  nimg = nimg.transpose(1,2,0)\n",
        "  nimg = nimg.reshape(256,256,33,26)\n",
        "  return nimg"
      ],
      "metadata": {
        "id": "KP9Idvm31ErG"
      },
      "execution_count": 42,
      "outputs": []
    },
    {
      "cell_type": "code",
      "source": [
        "bvals, bvecs = read_bvals_bvecs('/content/drive/MyDrive/ColabNotebooks/Data/TENSOR_2x2x2.bval', '/content/drive/MyDrive/ColabNotebooks/Data/TENSOR_2x2x2.bvec')\n",
        "\n",
        "\n",
        "data_cut4 = backTo4D(np.array(data_cut))\n",
        "gtab = gradient_table(bvals, bvecs)\n",
        "tensorm = dti.TensorModel(gtab)\n",
        "tenfitdata = tensorm.fit(data_cut4)"
      ],
      "metadata": {
        "id": "MdZusKuH1Yfe"
      },
      "execution_count": 43,
      "outputs": []
    },
    {
      "cell_type": "code",
      "source": [
        "dataLow4 = backTo4D(np.array(data_pred_cut))\n",
        "gtab = gradient_table(bvals, bvecs)\n",
        "tensorm = dti.TensorModel(gtab)\n",
        "tenfitdatalow = tensorm.fit(dataLow4)"
      ],
      "metadata": {
        "id": "rJAYo-2i1bJu"
      },
      "execution_count": 44,
      "outputs": []
    },
    {
      "cell_type": "code",
      "source": [
        "fnorm = dti.norm(tenfitdata.quadratic_form - tenfitdatalow.quadratic_form)\n",
        "print(\"mean: \",fnorm.mean(), \" std: \", fnorm.std())"
      ],
      "metadata": {
        "colab": {
          "base_uri": "https://localhost:8080/"
        },
        "id": "jZ7GxpuT1h3u",
        "outputId": "1912f55e-5c25-494b-ca1c-d7c0a8323037"
      },
      "execution_count": 45,
      "outputs": [
        {
          "output_type": "stream",
          "name": "stdout",
          "text": [
            "mean:  0.0777210799824773  std:  0.5653241220449324\n"
          ]
        }
      ]
    },
    {
      "cell_type": "code",
      "source": [
        "FAdata = tenfitdata.fa.transpose(2,0,1)\n",
        "FApred = tenfitdatalow.fa.transpose(2,0,1)\n",
        "valfa,stdfa = mse(FAdata, FApred)\n",
        "print('MSE de FA:', valfa, \"standard deviation: \", stdfa)"
      ],
      "metadata": {
        "colab": {
          "base_uri": "https://localhost:8080/"
        },
        "id": "28HR7f6FkB8G",
        "outputId": "9d5ee9dc-2a2d-4315-a44d-77a3b5e07235"
      },
      "execution_count": 46,
      "outputs": [
        {
          "output_type": "stream",
          "name": "stdout",
          "text": [
            "(256, 256, 33)\n",
            "MSE de FA: 0.19128554144548057 standard deviation:  0.04287844240870881\n"
          ]
        }
      ]
    }
  ],
  "metadata": {
    "colab": {
      "provenance": [],
      "machine_shape": "hm",
      "gpuType": "V100"
    },
    "kernelspec": {
      "display_name": "Python 3",
      "name": "python3"
    },
    "language_info": {
      "name": "python"
    },
    "accelerator": "GPU",
    "gpuClass": "standard"
  },
  "nbformat": 4,
  "nbformat_minor": 0
}